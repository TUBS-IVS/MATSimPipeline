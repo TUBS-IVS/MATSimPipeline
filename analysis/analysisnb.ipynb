{
 "cells": [
  {
   "cell_type": "code",
   "id": "initial_id",
   "metadata": {
    "collapsed": true,
    "ExecuteTime": {
     "end_time": "2024-08-28T14:31:01.012881Z",
     "start_time": "2024-08-28T14:30:57.034374Z"
    }
   },
   "source": [
    "\n",
    "import numpy as np\n",
    "from utils import helpers as h\n",
    "from utils import settings as s\n",
    "from analysis import analysis"
   ],
   "outputs": [
    {
     "name": "stdout",
     "output_type": "stream",
     "text": [
      "2024-08-28 16:30:57,858 [INFO] utils.settings: Loaded config from C:\\Users\\petre\\Documents\\GitHub\\MATSimPipeline/settings.yaml\n"
     ]
    }
   ],
   "execution_count": 1
  },
  {
   "metadata": {
    "ExecuteTime": {
     "end_time": "2024-08-28T14:32:12.157048Z",
     "start_time": "2024-08-28T14:32:06.372197Z"
    }
   },
   "cell_type": "code",
   "source": [
    "import pandas as pd\n",
    "import matplotlib.pyplot as plt\n",
    "\n",
    "# Assuming the necessary functions and classes are imported from 'analysis' and 'h'\n",
    "\n",
    "# First Dataset\n",
    "Data1 = analysis.DataframeAnalysis()\n",
    "Data1.load_df_from_csv(r'C:\\Users\\petre\\Documents\\GitHub\\MATSimPipeline\\analysis\\analysis_data\\location_assignment_result_main_advanced_petre.csv')\n",
    "Data1.df = Data1.df[Data1.df['to_location'].notna()]\n",
    "Data1.df['from_location'] = Data1.df['from_location'].apply(h.convert_to_point)\n",
    "Data1.df['to_location'] = Data1.df['to_location'].apply(h.convert_to_point)\n",
    "Data1.evaluate_distance_deviations_from_df()\n",
    "\n",
    "# Second Dataset\n",
    "Data2 = analysis.DataframeAnalysis()\n",
    "Data2.load_df_from_csv(r'C:\\Users\\petre\\Documents\\GitHub\\MATSimPipeline\\output\\20240808_131819\\location_assignment_result.csv')\n",
    "Data2.df = Data2.df[Data2.df['to_location'].notna()]\n",
    "Data2.df['from_location'] = Data2.df['from_location'].apply(h.convert_to_point)\n",
    "Data2.df['to_location'] = Data2.df['to_location'].apply(h.convert_to_point)\n",
    "Data2.evaluate_distance_deviations_from_df()\n",
    "\n",
    "# Ensure the maximum value is limited to 1000\n",
    "Data1.df['discretization_error'] = Data1.df['discretization_error'].clip(upper=1000)\n",
    "Data2.df['discretization_error'] = Data2.df['discretization_error'].clip(upper=1000)\n",
    "\n",
    "# Plotting in the same plot\n",
    "plt.figure(figsize=(10, 6))\n",
    "\n",
    "# Plot histogram for Dataset 1\n",
    "Data1.df['discretization_error'].plot.hist(bins=100, alpha=0.5, color='blue', label='Dataset 1')\n",
    "\n",
    "# Plot histogram for Dataset 2\n",
    "Data2.df['discretization_error'].plot.hist(bins=100, alpha=0.5, color='green', label='Dataset 2')\n",
    "\n",
    "# Adding title and labels\n",
    "plt.title('Discretization Error Comparison')\n",
    "plt.xlabel('Discretization Error')\n",
    "plt.ylabel('Frequency')\n",
    "plt.xlim(0, 1000)\n",
    "plt.legend()\n",
    "\n",
    "plt.show()\n"
   ],
   "id": "c5f69283732dd58a",
   "outputs": [
    {
     "name": "stderr",
     "output_type": "stream",
     "text": [
      "C:\\Users\\petre\\Documents\\GitHub\\MATSimPipeline\\utils\\helpers.py:86: DtypeWarning: Columns (276,287,292,381,382,384,389,395,396,401,402,403,404,405,406) have mixed types. Specify dtype option on import or set low_memory=False.\n",
      "  df = pd.read_csv(csv_path, sep=',', usecols=use_cols)\n"
     ]
    },
    {
     "name": "stdout",
     "output_type": "stream",
     "text": [
      "2024-08-28 16:32:09,292 [WARNING] utils.data_frame_processor: DataFrame is not yet initialized.\n",
      "2024-08-28 16:32:09,293 [INFO] utils.data_frame_processor: DataFrame loaded and concatenated successfully from CSV.\n"
     ]
    },
    {
     "name": "stderr",
     "output_type": "stream",
     "text": [
      "C:\\Users\\petre\\Documents\\GitHub\\MATSimPipeline\\utils\\helpers.py:86: DtypeWarning: Columns (276,278,279,287,292,313,317,370,381,382,384,389,395,396,401,402,405,406) have mixed types. Specify dtype option on import or set low_memory=False.\n",
      "  df = pd.read_csv(csv_path, sep=',', usecols=use_cols)\n"
     ]
    },
    {
     "name": "stdout",
     "output_type": "stream",
     "text": [
      "2024-08-28 16:32:11,473 [WARNING] utils.data_frame_processor: DataFrame is not yet initialized.\n",
      "2024-08-28 16:32:11,474 [INFO] utils.data_frame_processor: DataFrame loaded and concatenated successfully from CSV.\n"
     ]
    },
    {
     "data": {
      "text/plain": [
       "<Figure size 1000x600 with 1 Axes>"
      ],
      "image/png": "[encoded data removed]"
     },
     "metadata": {},
     "output_type": "display_data"
    }
   ],
   "execution_count": 3
  },
  {
   "metadata": {},
   "cell_type": "markdown",
   "source": [
    "mean, median, plot deviation dist, the same per chain, -- capacity matching??"
   ],
   "id": "225057c5e72d0caa"
  },
  {
   "metadata": {
    "ExecuteTime": {
     "end_time": "2024-08-28T14:32:35.026251Z",
     "start_time": "2024-08-28T14:32:35.003396Z"
    }
   },
   "cell_type": "code",
   "source": [
    "Data1.df['discretization_error'].describe()"
   ],
   "id": "dd27ab170b1d6695",
   "outputs": [
    {
     "data": {
      "text/plain": [
       "count     348.000000\n",
       "mean      182.912440\n",
       "std       292.398618\n",
       "min         0.213355\n",
       "25%        14.396399\n",
       "50%        47.266383\n",
       "75%       193.821253\n",
       "max      1000.000000\n",
       "Name: discretization_error, dtype: float64"
      ]
     },
     "execution_count": 4,
     "metadata": {},
     "output_type": "execute_result"
    }
   ],
   "execution_count": 4
  },
  {
   "metadata": {
    "ExecuteTime": {
     "end_time": "2024-08-28T14:32:39.292664Z",
     "start_time": "2024-08-28T14:32:39.274113Z"
    }
   },
   "cell_type": "code",
   "source": [
    "Data2.df['discretization_error'].describe()\n"
   ],
   "id": "55989aa214435f41",
   "outputs": [
    {
     "data": {
      "text/plain": [
       "count     363.000000\n",
       "mean      348.331761\n",
       "std       416.356771\n",
       "min         0.024504\n",
       "25%        22.317046\n",
       "50%        97.324317\n",
       "75%      1000.000000\n",
       "max      1000.000000\n",
       "Name: discretization_error, dtype: float64"
      ]
     },
     "execution_count": 5,
     "metadata": {},
     "output_type": "execute_result"
    }
   ],
   "execution_count": 5
  },
  {
   "metadata": {},
   "cell_type": "code",
   "outputs": [],
   "execution_count": null,
   "source": [],
   "id": "d899384c517e6a2f"
  }
 ],
 "metadata": {
  "kernelspec": {
   "display_name": "Python 3",
   "language": "python",
   "name": "python3"
  },
  "language_info": {
   "codemirror_mode": {
    "name": "ipython",
    "version": 2
   },
   "file_extension": ".py",
   "mimetype": "text/x-python",
   "name": "python",
   "nbconvert_exporter": "python",
   "pygments_lexer": "ipython2",
   "version": "2.7.6"
  }
 },
 "nbformat": 4,
 "nbformat_minor": 5
}
